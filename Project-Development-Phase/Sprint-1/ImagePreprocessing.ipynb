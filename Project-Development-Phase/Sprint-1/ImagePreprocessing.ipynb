{
  "nbformat": 4,
  "nbformat_minor": 0,
  "metadata": {
    "colab": {
      "provenance": [],
      "collapsed_sections": []
    },
    "kernelspec": {
      "name": "python3",
      "display_name": "Python 3"
    },
    "language_info": {
      "name": "python"
    }
  },
  "cells": [
    {
      "cell_type": "markdown",
      "source": [
        "**Import the Image Generator Library**\n",
        "\n",
        "\n",
        "\n"
      ],
      "metadata": {
        "id": "uLZOWu5Cgfxo"
      }
    },
    {
      "cell_type": "code",
      "source": [
        "from tensorflow.keras.preprocessing.image import ImageDataGenerator"
      ],
      "metadata": {
        "id": "2v_OxINjgcrg"
      },
      "execution_count": null,
      "outputs": []
    },
    {
      "cell_type": "markdown",
      "source": [
        "**Image Preprocessing**"
      ],
      "metadata": {
        "id": "Nzti-M7YgdCw"
      }
    },
    {
      "cell_type": "code",
      "source": [
        "from tensorflow.keras.preprocessing.image import ImageDataGenerator\n",
        "train_datagen = ImageDataGenerator(rescale=1./255,\n",
        "                                   shear_range=0.2,\n",
        "                                   zoom_range=0.2,\n",
        "                                   horizontal_flip=True)\n",
        "test_datagen = ImageDataGenerator(rescale=1./255)\n",
        "train_data= train_datagen.flow_from_directory(r'/content/drive/MyDrive/Dataset/train',\n",
        "                                target_size=(80,80),batch_size=8,class_mode='categorical',subset='training',color_mode='grayscale')\n",
        "test_data = test_datagen.flow_from_directory(r'/content/drive/MyDrive/Dataset/test',\n",
        "                                target_size=(80,80),batch_size=8,class_mode='categorical',color_mode='grayscale')\n"
      ],
      "metadata": {
        "colab": {
          "base_uri": "https://localhost:8080/"
        },
        "id": "1dtQGt7ZhI4Q",
        "outputId": "2173564f-4a8a-48d2-d7b1-cbefee07d8d2"
      },
      "execution_count": null,
      "outputs": [
        {
          "output_type": "stream",
          "name": "stdout",
          "text": [
            "Found 594 images belonging to 6 classes.\n",
            "Found 30 images belonging to 6 classes.\n"
          ]
        }
      ]
    },
    {
      "cell_type": "markdown",
      "source": [
        "**Configure ImageDataGenerator**"
      ],
      "metadata": {
        "id": "_ScfB7QNhiJQ"
      }
    },
    {
      "cell_type": "code",
      "source": [
        "train_datagen = ImageDataGenerator(rescale=1./255,\n",
        "                                   shear_range=0.2,\n",
        "                                   zoom_range=0.2,\n",
        "                                   horizontal_flip=True)\n",
        "test_datagen = ImageDataGenerator(rescale=1./255)\n"
      ],
      "metadata": {
        "id": "0cIWNgGshwn6"
      },
      "execution_count": null,
      "outputs": []
    },
    {
      "cell_type": "markdown",
      "source": [
        "**Apply Image Generator Functionality**"
      ],
      "metadata": {
        "id": "3N6c0Fp-h9zZ"
      }
    },
    {
      "cell_type": "code",
      "source": [
        "train_data= train_datagen.flow_from_directory(r'/content/drive/MyDrive/Dataset/train',\n",
        "                                target_size=(80,80),batch_size=8,class_mode='categorical',subset='training',color_mode='grayscale')\n",
        "test_data = test_datagen.flow_from_directory(r'/content/drive/MyDrive/Dataset/test',\n",
        "                                target_size=(80,80),batch_size=8,class_mode='categorical',color_mode='grayscale')\n"
      ],
      "metadata": {
        "colab": {
          "base_uri": "https://localhost:8080/"
        },
        "id": "ylBLpY3PiCYA",
        "outputId": "8de8f73f-a7ba-4916-98c9-3045616a539e"
      },
      "execution_count": null,
      "outputs": [
        {
          "output_type": "stream",
          "name": "stdout",
          "text": [
            "Found 594 images belonging to 6 classes.\n",
            "Found 30 images belonging to 6 classes.\n"
          ]
        }
      ]
    }
  ]
}