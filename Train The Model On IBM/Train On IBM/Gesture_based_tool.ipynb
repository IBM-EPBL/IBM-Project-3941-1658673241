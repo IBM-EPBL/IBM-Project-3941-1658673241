{
  "cells": [
    {
      "metadata": {
        "id": "pxZwZVCmjMkf"
      },
      "cell_type": "markdown",
      "source": [
        "# Team ID : PNT2022TMID00692\n",
        "Project Name : A Gesture-based Tool for Sterile Browsing ofRadiology Images"
      ]
    },
    {
      "metadata": {
        "id": "6mUC5UnZjMkn"
      },
      "cell_type": "code",
      "source": [
        "from keras.preprocessing.image import ImageDataGenerator"
      ],
      "execution_count": null,
      "outputs": []
    },
    {
      "metadata": {
        "id": "5LCSEaWMjMkq"
      },
      "cell_type": "code",
      "source": [
        "import os, types\n",
        "import pandas as pd\n",
        "from botocore.client import Config\n",
        "import ibm_boto3\n",
        "\n",
        "def __iter__(self): return 0\n",
        "\n",
        "# @hidden_cell\n",
        "# The following code accesses a file in your IBM Cloud Object Storage. It includes your credentials.\n",
        "# You might want to remove those credentials before you share the notebook.\n",
        "cos_client = ibm_boto3.client(service_name='s3',\n",
        "    ibm_api_key_id='ZCrOtWul1v200DWCwCBXoW5dkX4fZ5rfrItF3fgF9sXW',\n",
        "    ibm_auth_endpoint=\"https://iam.cloud.ibm.com/oidc/token\",\n",
        "    config=Config(signature_version='oauth'),\n",
        "    endpoint_url='https://s3.private.eu.cloud-object-storage.appdomain.cloud')\n",
        "\n",
        "bucket = 'agesturebasedtoolforsterilebrowsi-donotdelete-pr-5d9lix71rlbk2g'\n",
        "object_key = 'Dataset.zip'\n",
        "\n",
        "streaming_body_1 = cos_client.get_object(Bucket=bucket, Key=object_key)['Body']\n",
        "\n",
        "# Your data file was loaded into a botocore.response.StreamingBody object.\n",
        "# Please read the documentation of ibm_boto3 and pandas to learn more about the possibilities to load the data.\n",
        "# ibm_boto3 documentation: https://ibm.github.io/ibm-cos-sdk-python/\n",
        "# pandas documentation: http://pandas.pydata.org/\n",
        "\n",
        "if not hasattr(streaming_body_1, \"__iter__\"): streaming_body_1.__iter__ = types.MethodType( __iter__, streaming_body_1 )"
      ],
      "execution_count": null,
      "outputs": []
    },
    {
      "metadata": {
        "id": "pyVrlqBgjMks"
      },
      "cell_type": "code",
      "source": [
        "from io import BytesIO\n",
        "import zipfile\n",
        "unzip = zipfile.ZipFile(BytesIO(streaming_body_1.read()),'r')\n",
        "file_paths = unzip.namelist()\n",
        "for path in file_paths:\n",
        "    unzip.extract(path)"
      ],
      "execution_count": null,
      "outputs": []
    },
    {
      "metadata": {
        "id": "s9wnIBaOjMkt"
      },
      "cell_type": "code",
      "source": [
        "train_datagen=ImageDataGenerator(rescale=1./255,shear_range=0.2,zoom_range=0.2,horizontal_flip=True)"
      ],
      "execution_count": null,
      "outputs": []
    },
    {
      "metadata": {
        "id": "fef2CBZSjMku"
      },
      "cell_type": "code",
      "source": [
        "test_datagen=ImageDataGenerator(rescale=1./255)"
      ],
      "execution_count": null,
      "outputs": []
    },
    {
      "metadata": {
        "id": "FEO9azYPjMkw"
      },
      "cell_type": "code",
      "source": [
        "import os\n",
        "filenames = os.listdir(r'/home/wsuser/work/Dataset/train')"
      ],
      "execution_count": null,
      "outputs": []
    },
    {
      "metadata": {
        "id": "DQmsKy2ljMky",
        "outputId": "19910cee-a53a-4910-a7d4-6b17bb065c71"
      },
      "cell_type": "code",
      "source": [
        "x_train=train_datagen.flow_from_directory(r'/home/wsuser/work/Dataset/train',\n",
        "                                          target_size=(64,64),\n",
        "                                          batch_size=5,\n",
        "                                          color_mode='grayscale',\n",
        "                                          class_mode='categorical')"
      ],
      "execution_count": null,
      "outputs": [
        {
          "output_type": "stream",
          "text": "Found 594 images belonging to 6 classes.\n",
          "name": "stdout"
        }
      ]
    },
    {
      "metadata": {
        "id": "ug1bjx9mjMk1",
        "outputId": "e2d55b2e-f61b-4132-8590-f9f5d9022d17"
      },
      "cell_type": "code",
      "source": [
        "x_test = test_datagen.flow_from_directory(r'/home/wsuser/work/Dataset/test',\n",
        "                                          target_size=(64, 64),\n",
        "                                          batch_size=5,\n",
        "                                          color_mode='grayscale',\n",
        "                                          class_mode='categorical') "
      ],
      "execution_count": null,
      "outputs": [
        {
          "output_type": "stream",
          "text": "Found 30 images belonging to 6 classes.\n",
          "name": "stdout"
        }
      ]
    },
    {
      "metadata": {
        "id": "wf5NhhuIjMk2"
      },
      "cell_type": "code",
      "source": [
        "import numpy as np\n",
        "\n",
        "import tensorflow\n",
        "\n",
        "from tensorflow.keras.models import Sequential\n",
        "\n",
        "from tensorflow.keras import layers\n",
        "\n",
        "from tensorflow.keras.layers import Dense,Flatten\n",
        "\n",
        "from tensorflow.keras.layers import Conv2D,MaxPooling2D\n",
        "\n",
        "from keras.preprocessing.image import ImageDataGenerator\n",
        "\n"
      ],
      "execution_count": null,
      "outputs": []
    },
    {
      "metadata": {
        "id": "P4AW81MzjMk3"
      },
      "cell_type": "code",
      "source": [
        "# Initializing the CNN\n",
        "model = Sequential()"
      ],
      "execution_count": null,
      "outputs": []
    },
    {
      "metadata": {
        "id": "BGPYmsaajMk5"
      },
      "cell_type": "code",
      "source": [
        "# First convolution layer and pooling\n",
        "model.add(Convolution2D(32, (3, 3), input_shape=(64, 64, 1), activation='relu'))\n",
        "model.add(MaxPooling2D(pool_size=(2, 2)))"
      ],
      "execution_count": null,
      "outputs": []
    },
    {
      "metadata": {
        "id": "VsqBZw2AjMk6"
      },
      "cell_type": "code",
      "source": [
        "# Second convolution layer and pooling\n",
        "model.add(Convolution2D(32, (3, 3), activation='relu'))\n",
        "# input_shape is going to be the pooled feature maps from the previous convolution layer\n",
        "model.add(MaxPooling2D(pool_size=(2,2)))"
      ],
      "execution_count": null,
      "outputs": []
    },
    {
      "metadata": {
        "id": "fk6eLoAVjMk7"
      },
      "cell_type": "code",
      "source": [
        "# Flattening the layers i.e. input layer\n",
        "model.add(Flatten())"
      ],
      "execution_count": null,
      "outputs": []
    },
    {
      "metadata": {
        "id": "OSKQ54DPjMk8"
      },
      "cell_type": "code",
      "source": [
        "# Adding a fully connected layer, i.e. Hidden Layer\n",
        "model.add(Dense(units=512 , activation='relu'))"
      ],
      "execution_count": null,
      "outputs": []
    },
    {
      "metadata": {
        "id": "0LwtRH7SjMk8"
      },
      "cell_type": "code",
      "source": [
        "# softmax for categorical analysis, Output Layer\n",
        "model.add(Dense(units=6, activation='softmax')) "
      ],
      "execution_count": null,
      "outputs": []
    },
    {
      "metadata": {
        "id": "BRiFyhmEjMk9",
        "outputId": "9d81e4fa-6b1a-43d0-fa08-4f940bec9bff"
      },
      "cell_type": "code",
      "source": [
        "model.summary()#summary of our model"
      ],
      "execution_count": null,
      "outputs": [
        {
          "output_type": "stream",
          "text": "Model: \"sequential_4\"\n_________________________________________________________________\n Layer (type)                Output Shape              Param #   \n=================================================================\n conv2d_6 (Conv2D)           (None, 62, 62, 32)        320       \n                                                                 \n max_pooling2d_6 (MaxPooling  (None, 31, 31, 32)       0         \n 2D)                                                             \n                                                                 \n conv2d_7 (Conv2D)           (None, 29, 29, 32)        9248      \n                                                                 \n max_pooling2d_7 (MaxPooling  (None, 14, 14, 32)       0         \n 2D)                                                             \n                                                                 \n flatten_3 (Flatten)         (None, 6272)              0         \n                                                                 \n dense_6 (Dense)             (None, 512)               3211776   \n                                                                 \n dense_7 (Dense)             (None, 6)                 3078      \n                                                                 \n=================================================================\nTotal params: 3,224,422\nTrainable params: 3,224,422\nNon-trainable params: 0\n_________________________________________________________________\n",
          "name": "stdout"
        }
      ]
    },
    {
      "metadata": {
        "id": "Yl-6UtlpjMk9"
      },
      "cell_type": "code",
      "source": [
        "model.compile(optimizer='adam',loss='categorical_crossentropy',metrics=['accuracy'])"
      ],
      "execution_count": null,
      "outputs": []
    },
    {
      "metadata": {
        "id": "pCisFQbPjMk-",
        "outputId": "bb92eb0e-b6f4-4043-e9b9-b1727f709dc7"
      },
      "cell_type": "code",
      "source": [
        "model.fit_generator(\n",
        "    generator=x_train,steps_per_epoch=len(x_train),\n",
        "    epochs=20,validation_data=x_test,validation_steps=len(x_test))"
      ],
      "execution_count": null,
      "outputs": [
        {
          "output_type": "stream",
          "text": "/tmp/wsuser/ipykernel_164/1772156357.py:1: UserWarning: `Model.fit_generator` is deprecated and will be removed in a future version. Please use `Model.fit`, which supports generators.\n  model.fit_generator(\n",
          "name": "stderr"
        },
        {
          "output_type": "stream",
          "text": "Epoch 1/20\n119/119 [==============================] - 9s 75ms/step - loss: 0.6393 - accuracy: 0.7441 - val_loss: 0.4844 - val_accuracy: 0.8333\nEpoch 2/20\n119/119 [==============================] - 9s 73ms/step - loss: 0.3879 - accuracy: 0.8519 - val_loss: 0.3123 - val_accuracy: 0.9000\nEpoch 3/20\n119/119 [==============================] - 9s 75ms/step - loss: 0.2884 - accuracy: 0.8889 - val_loss: 0.3932 - val_accuracy: 0.9000\nEpoch 4/20\n119/119 [==============================] - 9s 73ms/step - loss: 0.2082 - accuracy: 0.9226 - val_loss: 0.2338 - val_accuracy: 0.9333\nEpoch 5/20\n119/119 [==============================] - 9s 75ms/step - loss: 0.1427 - accuracy: 0.9444 - val_loss: 0.2445 - val_accuracy: 0.9333\nEpoch 6/20\n119/119 [==============================] - 9s 74ms/step - loss: 0.1160 - accuracy: 0.9579 - val_loss: 0.1804 - val_accuracy: 0.9667\nEpoch 7/20\n119/119 [==============================] - 9s 75ms/step - loss: 0.1008 - accuracy: 0.9579 - val_loss: 0.0446 - val_accuracy: 0.9667\nEpoch 8/20\n119/119 [==============================] - 9s 74ms/step - loss: 0.0652 - accuracy: 0.9781 - val_loss: 0.2093 - val_accuracy: 0.9667\nEpoch 9/20\n119/119 [==============================] - 9s 74ms/step - loss: 0.0955 - accuracy: 0.9663 - val_loss: 0.2457 - val_accuracy: 0.9667\nEpoch 10/20\n119/119 [==============================] - 9s 74ms/step - loss: 0.0719 - accuracy: 0.9815 - val_loss: 0.3150 - val_accuracy: 0.9667\nEpoch 11/20\n119/119 [==============================] - 9s 75ms/step - loss: 0.0495 - accuracy: 0.9865 - val_loss: 0.2639 - val_accuracy: 0.9667\nEpoch 12/20\n119/119 [==============================] - 9s 76ms/step - loss: 0.1015 - accuracy: 0.9764 - val_loss: 0.0912 - val_accuracy: 0.9667\nEpoch 13/20\n119/119 [==============================] - 9s 75ms/step - loss: 0.0449 - accuracy: 0.9815 - val_loss: 0.2290 - val_accuracy: 0.9667\nEpoch 14/20\n119/119 [==============================] - 9s 76ms/step - loss: 0.0147 - accuracy: 0.9966 - val_loss: 0.3007 - val_accuracy: 0.9667\nEpoch 15/20\n119/119 [==============================] - 9s 74ms/step - loss: 0.0372 - accuracy: 0.9916 - val_loss: 0.2512 - val_accuracy: 0.9667\nEpoch 16/20\n119/119 [==============================] - 9s 75ms/step - loss: 0.0373 - accuracy: 0.9815 - val_loss: 0.2865 - val_accuracy: 0.9333\nEpoch 17/20\n119/119 [==============================] - 9s 75ms/step - loss: 0.0466 - accuracy: 0.9848 - val_loss: 0.2103 - val_accuracy: 0.9667\nEpoch 18/20\n119/119 [==============================] - 9s 74ms/step - loss: 0.0198 - accuracy: 0.9933 - val_loss: 0.0959 - val_accuracy: 0.9667\nEpoch 19/20\n119/119 [==============================] - 9s 73ms/step - loss: 0.0536 - accuracy: 0.9781 - val_loss: 0.8164 - val_accuracy: 0.9000\nEpoch 20/20\n119/119 [==============================] - 9s 73ms/step - loss: 0.0767 - accuracy: 0.9798 - val_loss: 0.2420 - val_accuracy: 0.9667\n",
          "name": "stdout"
        },
        {
          "output_type": "execute_result",
          "execution_count": 136,
          "data": {
            "text/plain": "<keras.callbacks.History at 0x7f068cc717c0>"
          },
          "metadata": {}
        }
      ]
    },
    {
      "metadata": {
        "id": "8Zc5JAdujMk_"
      },
      "cell_type": "code",
      "source": [
        "# Save the model\n",
        "model.save('gesture.h5')"
      ],
      "execution_count": null,
      "outputs": []
    },
    {
      "metadata": {
        "id": "GKiVspHTjMk_",
        "outputId": "5b79b18e-43d6-4755-9e6c-92fb92a0f273"
      },
      "cell_type": "code",
      "source": [
        "!tar -zcvf Gesture-based-Radiology-Images.tgz gesture.h5"
      ],
      "execution_count": null,
      "outputs": [
        {
          "output_type": "stream",
          "text": "gesture.h5\r\n",
          "name": "stdout"
        }
      ]
    },
    {
      "metadata": {
        "id": "qfn7aIf9jMlA",
        "outputId": "018b7a13-af28-4de6-89fa-35de16d86743"
      },
      "cell_type": "code",
      "source": [
        "ls "
      ],
      "execution_count": null,
      "outputs": [
        {
          "output_type": "stream",
          "text": "\u001b[0m\u001b[01;34mDataset\u001b[0m/                            gesture.h5     \u001b[01;34mtest\u001b[0m/\r\nGesture-based-Radiology-Images.tgz  model-bw.json  \u001b[01;34mtrain\u001b[0m/\r\n",
          "name": "stdout"
        }
      ]
    },
    {
      "metadata": {
        "id": "llRuwHI9jMlA"
      },
      "cell_type": "code",
      "source": [
        "model_json = model.to_json()\n",
        "with open(\"model-bw.json\", \"w\") as json_file:\n",
        "    json_file.write(model_json)"
      ],
      "execution_count": null,
      "outputs": []
    },
    {
      "metadata": {
        "id": "S6mRuvojjMlB"
      },
      "cell_type": "markdown",
      "source": [
        "# IBM DEPLOYMENT"
      ]
    },
    {
      "metadata": {
        "id": "hK50syKDjMlC",
        "outputId": "bb12b015-3322-424e-f655-b67fb9a90118"
      },
      "cell_type": "code",
      "source": [
        "!pip install ibm_watson_machine_learning"
      ],
      "execution_count": null,
      "outputs": [
        {
          "output_type": "stream",
          "text": "Requirement already satisfied: ibm_watson_machine_learning in /opt/conda/envs/Python-3.9/lib/python3.9/site-packages (1.0.257)\nRequirement already satisfied: lomond in /opt/conda/envs/Python-3.9/lib/python3.9/site-packages (from ibm_watson_machine_learning) (0.3.3)\nRequirement already satisfied: requests in /opt/conda/envs/Python-3.9/lib/python3.9/site-packages (from ibm_watson_machine_learning) (2.26.0)\nRequirement already satisfied: packaging in /opt/conda/envs/Python-3.9/lib/python3.9/site-packages (from ibm_watson_machine_learning) (21.3)\nRequirement already satisfied: importlib-metadata in /opt/conda/envs/Python-3.9/lib/python3.9/site-packages (from ibm_watson_machine_learning) (4.8.2)\nRequirement already satisfied: certifi in /opt/conda/envs/Python-3.9/lib/python3.9/site-packages (from ibm_watson_machine_learning) (2022.9.24)\nRequirement already satisfied: urllib3 in /opt/conda/envs/Python-3.9/lib/python3.9/site-packages (from ibm_watson_machine_learning) (1.26.7)\nRequirement already satisfied: pandas<1.5.0,>=0.24.2 in /opt/conda/envs/Python-3.9/lib/python3.9/site-packages (from ibm_watson_machine_learning) (1.3.4)\nRequirement already satisfied: ibm-cos-sdk==2.11.* in /opt/conda/envs/Python-3.9/lib/python3.9/site-packages (from ibm_watson_machine_learning) (2.11.0)\nRequirement already satisfied: tabulate in /opt/conda/envs/Python-3.9/lib/python3.9/site-packages (from ibm_watson_machine_learning) (0.8.9)\nRequirement already satisfied: ibm-cos-sdk-core==2.11.0 in /opt/conda/envs/Python-3.9/lib/python3.9/site-packages (from ibm-cos-sdk==2.11.*->ibm_watson_machine_learning) (2.11.0)\nRequirement already satisfied: jmespath<1.0.0,>=0.7.1 in /opt/conda/envs/Python-3.9/lib/python3.9/site-packages (from ibm-cos-sdk==2.11.*->ibm_watson_machine_learning) (0.10.0)\nRequirement already satisfied: ibm-cos-sdk-s3transfer==2.11.0 in /opt/conda/envs/Python-3.9/lib/python3.9/site-packages (from ibm-cos-sdk==2.11.*->ibm_watson_machine_learning) (2.11.0)\nRequirement already satisfied: python-dateutil<3.0.0,>=2.1 in /opt/conda/envs/Python-3.9/lib/python3.9/site-packages (from ibm-cos-sdk-core==2.11.0->ibm-cos-sdk==2.11.*->ibm_watson_machine_learning) (2.8.2)\nRequirement already satisfied: pytz>=2017.3 in /opt/conda/envs/Python-3.9/lib/python3.9/site-packages (from pandas<1.5.0,>=0.24.2->ibm_watson_machine_learning) (2021.3)\nRequirement already satisfied: numpy>=1.17.3 in /opt/conda/envs/Python-3.9/lib/python3.9/site-packages (from pandas<1.5.0,>=0.24.2->ibm_watson_machine_learning) (1.20.3)\nRequirement already satisfied: six>=1.5 in /opt/conda/envs/Python-3.9/lib/python3.9/site-packages (from python-dateutil<3.0.0,>=2.1->ibm-cos-sdk-core==2.11.0->ibm-cos-sdk==2.11.*->ibm_watson_machine_learning) (1.15.0)\nRequirement already satisfied: idna<4,>=2.5 in /opt/conda/envs/Python-3.9/lib/python3.9/site-packages (from requests->ibm_watson_machine_learning) (3.3)\nRequirement already satisfied: charset-normalizer~=2.0.0 in /opt/conda/envs/Python-3.9/lib/python3.9/site-packages (from requests->ibm_watson_machine_learning) (2.0.4)\nRequirement already satisfied: zipp>=0.5 in /opt/conda/envs/Python-3.9/lib/python3.9/site-packages (from importlib-metadata->ibm_watson_machine_learning) (3.6.0)\nRequirement already satisfied: pyparsing!=3.0.5,>=2.0.2 in /opt/conda/envs/Python-3.9/lib/python3.9/site-packages (from packaging->ibm_watson_machine_learning) (3.0.4)\n",
          "name": "stdout"
        }
      ]
    },
    {
      "metadata": {
        "id": "OvjY_RyGjMlC"
      },
      "cell_type": "code",
      "source": [
        "from ibm_watson_machine_learning import APIClient\n",
        "wml_credentials = {\n",
        "                    \"url\": \"https://us-south.ml.cloud.ibm.com\",\n",
        "                     \"apikey\": \"dEexWL0BVPLMtaNCzN8FhFhkforJvMQa7XmtZjD5PiB_\"\n",
        "                   }\n",
        "client = APIClient(wml_credentials)"
      ],
      "execution_count": null,
      "outputs": []
    },
    {
      "metadata": {
        "id": "PZxyAmI7jMlD"
      },
      "cell_type": "code",
      "source": [
        "def guid_from_space_name(client,space_name):\n",
        "    space = client.spaces.get_details()\n",
        "    #print(space)\n",
        "    return(next(item for item in space['resources'] if item['entity'][\"name\"] == space_name)['metadata']['id'])"
      ],
      "execution_count": null,
      "outputs": []
    },
    {
      "metadata": {
        "colab": {
          "base_uri": "https://localhost:8080/"
        },
        "id": "r-J9OiZgjMlD",
        "outputId": "5200a190-8e5e-486c-e4f3-c6f7d6e7d495"
      },
      "cell_type": "code",
      "source": [
        "space_uid = guid_from_space_name(client,'Models')\n",
        "print(\"Space UID = \" + space_uid)"
      ],
      "execution_count": 1,
      "outputs": [
        {
          "output_type": "stream",
          "name": "stdout",
          "text": [
            "Space UID = a160ab50-1ff0-4ac0-98b5-b79655b2a468\n"
          ]
        }
      ]
    },
    {
      "metadata": {
        "id": "8r82ZRUzjMlE",
        "outputId": "4137a6e5-53da-4d83-c81f-5d091eca50c5"
      },
      "cell_type": "code",
      "source": [
        "client.set.default_space(space_uid)"
      ],
      "execution_count": null,
      "outputs": [
        {
          "output_type": "execute_result",
          "execution_count": 150,
          "data": {
            "text/plain": "'SUCCESS'"
          },
          "metadata": {}
        }
      ]
    },
    {
      "metadata": {
        "id": "pv79VTFwjMlE",
        "outputId": "fd02d891-064c-44d2-edac-fcdecc5f488c"
      },
      "cell_type": "code",
      "source": [
        "client.software_specifications.list()"
      ],
      "execution_count": null,
      "outputs": [
        {
          "output_type": "stream",
          "text": "-----------------------------  ------------------------------------  ----\nNAME                           ASSET_ID                              TYPE\ndefault_py3.6                  0062b8c9-8b7d-44a0-a9b9-46c416adcbd9  base\nkernel-spark3.2-scala2.12      020d69ce-7ac1-5e68-ac1a-31189867356a  base\npytorch-onnx_1.3-py3.7-edt     069ea134-3346-5748-b513-49120e15d288  base\nscikit-learn_0.20-py3.6        09c5a1d0-9c1e-4473-a344-eb7b665ff687  base\nspark-mllib_3.0-scala_2.12     09f4cff0-90a7-5899-b9ed-1ef348aebdee  base\npytorch-onnx_rt22.1-py3.9      0b848dd4-e681-5599-be41-b5f6fccc6471  base\nai-function_0.1-py3.6          0cdb0f1e-5376-4f4d-92dd-da3b69aa9bda  base\nshiny-r3.6                     0e6e79df-875e-4f24-8ae9-62dcc2148306  base\ntensorflow_2.4-py3.7-horovod   1092590a-307d-563d-9b62-4eb7d64b3f22  base\npytorch_1.1-py3.6              10ac12d6-6b30-4ccd-8392-3e922c096a92  base\ntensorflow_1.15-py3.6-ddl      111e41b3-de2d-5422-a4d6-bf776828c4b7  base\nautoai-kb_rt22.2-py3.10        125b6d9a-5b1f-5e8d-972a-b251688ccf40  base\nruntime-22.1-py3.9             12b83a17-24d8-5082-900f-0ab31fbfd3cb  base\nscikit-learn_0.22-py3.6        154010fa-5b3b-4ac1-82af-4d5ee5abbc85  base\ndefault_r3.6                   1b70aec3-ab34-4b87-8aa0-a4a3c8296a36  base\npytorch-onnx_1.3-py3.6         1bc6029a-cc97-56da-b8e0-39c3880dbbe7  base\nkernel-spark3.3-r3.6           1c9e5454-f216-59dd-a20e-474a5cdf5988  base\npytorch-onnx_rt22.1-py3.9-edt  1d362186-7ad5-5b59-8b6c-9d0880bde37f  base\ntensorflow_2.1-py3.6           1eb25b84-d6ed-5dde-b6a5-3fbdf1665666  base\nspark-mllib_3.2                20047f72-0a98-58c7-9ff5-a77b012eb8f5  base\ntensorflow_2.4-py3.8-horovod   217c16f6-178f-56bf-824a-b19f20564c49  base\nruntime-22.1-py3.9-cuda        26215f05-08c3-5a41-a1b0-da66306ce658  base\ndo_py3.8                       295addb5-9ef9-547e-9bf4-92ae3563e720  base\nautoai-ts_3.8-py3.8            2aa0c932-798f-5ae9-abd6-15e0c2402fb5  base\ntensorflow_1.15-py3.6          2b73a275-7cbf-420b-a912-eae7f436e0bc  base\nkernel-spark3.3-py3.9          2b7961e2-e3b1-5a8c-a491-482c8368839a  base\npytorch_1.2-py3.6              2c8ef57d-2687-4b7d-acce-01f94976dac1  base\nspark-mllib_2.3                2e51f700-bca0-4b0d-88dc-5c6791338875  base\npytorch-onnx_1.1-py3.6-edt     32983cea-3f32-4400-8965-dde874a8d67e  base\nspark-mllib_3.0-py37           36507ebe-8770-55ba-ab2a-eafe787600e9  base\nspark-mllib_2.4                390d21f8-e58b-4fac-9c55-d7ceda621326  base\nautoai-ts_rt22.2-py3.10        396b2e83-0953-5b86-9a55-7ce1628a406f  base\nxgboost_0.82-py3.6             39e31acd-5f30-41dc-ae44-60233c80306e  base\npytorch-onnx_1.2-py3.6-edt     40589d0e-7019-4e28-8daa-fb03b6f4fe12  base\npytorch-onnx_rt22.2-py3.10     40e73f55-783a-5535-b3fa-0c8b94291431  base\ndefault_r36py38                41c247d3-45f8-5a71-b065-8580229facf0  base\nautoai-ts_rt22.1-py3.9         4269d26e-07ba-5d40-8f66-2d495b0c71f7  base\nautoai-obm_3.0                 42b92e18-d9ab-567f-988a-4240ba1ed5f7  base\npmml-3.0_4.3                   493bcb95-16f1-5bc5-bee8-81b8af80e9c7  base\nspark-mllib_2.4-r_3.6          49403dff-92e9-4c87-a3d7-a42d0021c095  base\nxgboost_0.90-py3.6             4ff8d6c2-1343-4c18-85e1-689c965304d3  base\npytorch-onnx_1.1-py3.6         50f95b2a-bc16-43bb-bc94-b0bed208c60b  base\nautoai-ts_3.9-py3.8            52c57136-80fa-572e-8728-a5e7cbb42cde  base\nspark-mllib_2.4-scala_2.11     55a70f99-7320-4be5-9fb9-9edb5a443af5  base\nspark-mllib_3.0                5c1b0ca2-4977-5c2e-9439-ffd44ea8ffe9  base\nautoai-obm_2.0                 5c2e37fa-80b8-5e77-840f-d912469614ee  base\nspss-modeler_18.1              5c3cad7e-507f-4b2a-a9a3-ab53a21dee8b  base\ncuda-py3.8                     5d3232bf-c86b-5df4-a2cd-7bb870a1cd4e  base\nautoai-kb_3.1-py3.7            632d4b22-10aa-5180-88f0-f52dfb6444d7  base\npytorch-onnx_1.7-py3.8         634d3cdc-b562-5bf9-a2d4-ea90a478456b  base\n-----------------------------  ------------------------------------  ----\nNote: Only first 50 records were displayed. To display more use 'limit' parameter.\n",
          "name": "stdout"
        }
      ]
    },
    {
      "metadata": {
        "id": "Tafgx5XEjMlF",
        "outputId": "c596d97b-0041-421f-e3d5-fe0af58b1476"
      },
      "cell_type": "code",
      "source": [
        "software_spec_uid = client.software_specifications.get_uid_by_name(\"tensorflow_rt22.1-py3.9\")\n",
        "software_spec_uid"
      ],
      "execution_count": null,
      "outputs": [
        {
          "output_type": "stream",
          "text": "a160ab50-1ff0-4ac0-98b5-b79655b2a468\n",
          "name": "stdout"
        }
      ]
    },
    {
      "metadata": {
        "id": "HsunvDKkjMlF"
      },
      "cell_type": "code",
      "source": [
        "model_json=model.to_json()\n",
        "with open(\"model-bw.json\",\"w\")as json_file:\n",
        "    json_file.write(model_json)"
      ],
      "execution_count": null,
      "outputs": []
    },
    {
      "metadata": {
        "id": "EY8eMjxyjMlG"
      },
      "cell_type": "code",
      "source": [
        "from tensorflow.keras.models import load_model"
      ],
      "execution_count": null,
      "outputs": []
    },
    {
      "metadata": {
        "id": "XiB9UK04jMlG"
      },
      "cell_type": "code",
      "source": [
        "from tensorflow.keras.preprocessing import image \n",
        "from tensorflow.keras.applications.inception_v3 import preprocess_input\n",
        "model=load_model(\"gesture.h5\")"
      ],
      "execution_count": null,
      "outputs": []
    },
    {
      "metadata": {
        "id": "bYaDT8Q_jMlG",
        "outputId": "e2c31a8a-fee4-48e4-d16d-bc4fac5b5989"
      },
      "cell_type": "code",
      "source": [
        "img=image.load_img(r\"/home/wsuser/work/Dataset/test/1/1.jpg\",grayscale=True,target_size=(64,64))"
      ],
      "execution_count": null,
      "outputs": [
        {
          "output_type": "stream",
          "text": "/opt/conda/envs/Python-3.9/lib/python3.9/site-packages/keras_preprocessing/image/utils.py:107: UserWarning: grayscale is deprecated. Please use color_mode = \"grayscale\"\n  warnings.warn('grayscale is deprecated. Please use '\n",
          "name": "stderr"
        }
      ]
    },
    {
      "metadata": {
        "id": "jRSDN2TKjMlH"
      },
      "cell_type": "code",
      "source": [
        "x=image.img_to_array(img)"
      ],
      "execution_count": null,
      "outputs": []
    },
    {
      "metadata": {
        "id": "E4EBrlVUjMlI",
        "outputId": "78e280d0-3e80-4b29-b005-4d445d57c64b"
      },
      "cell_type": "code",
      "source": [
        "import numpy as np\n",
        "\n",
        "x=np.expand_dims(x,axis=0)\n",
        "img_data=preprocess_input(x)\n",
        "img_data.shape\n",
        "\n"
      ],
      "execution_count": null,
      "outputs": [
        {
          "output_type": "execute_result",
          "execution_count": 161,
          "data": {
            "text/plain": "(1, 64, 64, 1)"
          },
          "metadata": {}
        }
      ]
    },
    {
      "metadata": {
        "id": "d-wMkpH_jMlJ",
        "outputId": "bb03e903-886a-4094-c0e9-7360a7f0916c"
      },
      "cell_type": "code",
      "source": [
        "pred=np.argmax(model.predict(x))\n",
        "\n",
        "pred\n",
        "\n"
      ],
      "execution_count": null,
      "outputs": [
        {
          "output_type": "execute_result",
          "execution_count": 162,
          "data": {
            "text/plain": "1"
          },
          "metadata": {}
        }
      ]
    },
    {
      "metadata": {
        "id": "re3nwEpHjMlJ",
        "outputId": "053baec2-9d72-473f-ae1e-cad22652ae7c"
      },
      "cell_type": "code",
      "source": [
        "model.predict(x)"
      ],
      "execution_count": null,
      "outputs": [
        {
          "output_type": "execute_result",
          "execution_count": 163,
          "data": {
            "text/plain": "array([[1.02547594e-04, 8.94386649e-01, 1.05454221e-01, 5.64631482e-05,\n        7.49410448e-20, 1.98021851e-12]], dtype=float32)"
          },
          "metadata": {}
        }
      ]
    }
  ],
  "metadata": {
    "kernelspec": {
      "name": "python3",
      "display_name": "Python 3.9",
      "language": "python"
    },
    "language_info": {
      "name": "python",
      "version": "3.9.13",
      "mimetype": "text/x-python",
      "codemirror_mode": {
        "name": "ipython",
        "version": 3
      },
      "pygments_lexer": "ipython3",
      "nbconvert_exporter": "python",
      "file_extension": ".py"
    },
    "colab": {
      "provenance": []
    }
  },
  "nbformat": 4,
  "nbformat_minor": 0
}